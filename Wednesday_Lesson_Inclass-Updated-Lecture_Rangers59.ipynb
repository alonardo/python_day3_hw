{
 "cells": [
  {
   "cell_type": "markdown",
   "metadata": {},
   "source": [
    "# Exercises"
   ]
  },
  {
   "cell_type": "markdown",
   "metadata": {},
   "source": [
    "### 1) Build a Shopping Cart <br>\n",
    "<p><b>You can use either lists or dictionaries. The program should have the following capabilities:</b><br><br>\n",
    "1) Takes in input <br>\n",
    "2) Stores user input into a dictionary or list <br>\n",
    "3) The User can add or delete items <br>\n",
    "4) The User can see current shopping list <br>\n",
    "5) The program Loops until user 'quits' <br>\n",
    "6) Upon quiting the program, print out all items in the user's list <br>\n",
    "</p>"
   ]
  },
  {
   "cell_type": "code",
   "execution_count": 6,
   "metadata": {
    "scrolled": true
   },
   "outputs": [
    {
     "name": "stdout",
     "output_type": "stream",
     "text": [
      "Welcome to Lonardo Groceries. Do you want to: Show/Add/Delete or Quit?\n",
      "add\n",
      "Hello! What would you like to add to your cart?\n",
      "banana\n",
      "Adding banana\n",
      "Welcome to Lonardo Groceries. Do you want to: Show/Add/Delete or Quit?\n",
      "add\n",
      "Hello! What would you like to add to your cart?\n",
      "strawberries\n",
      "Adding strawberries\n",
      "Welcome to Lonardo Groceries. Do you want to: Show/Add/Delete or Quit?\n",
      "show\n",
      "{'banana': 1, 'strawberries': 1}\n",
      "Welcome to Lonardo Groceries. Do you want to: Show/Add/Delete or Quit?\n",
      "delete\n",
      "What item would you like to delete?banana\n",
      "Welcome to Lonardo Groceries. Do you want to: Show/Add/Delete or Quit?\n",
      "show\n",
      "{'strawberries': 1}\n",
      "Welcome to Lonardo Groceries. Do you want to: Show/Add/Delete or Quit?\n",
      "quit\n",
      "Thank you for shopping with us!\n",
      "{'strawberries': 1}\n"
     ]
    }
   ],
   "source": [
    "from IPython.display import clear_output\n",
    "\n",
    "# Ask the user four bits of input: Do you want to : Show/Add/Delete or Quit?\n",
    "# add prices, names, and quantities for bonus\n",
    "# import TK to use GUI\n",
    "def shopping_cart():\n",
    "    cart = {}\n",
    "    while True:\n",
    "        prompt = input('Welcome to Lonardo Groceries. Do you want to: Show/Add/Delete or Quit?\\n')\n",
    "        \n",
    "        if prompt.lower() == 'quit':\n",
    "            print('Thank you for shopping with us!')\n",
    "            break\n",
    "        \n",
    "        elif prompt.lower() == 'add':\n",
    "            quantity = 0\n",
    "            item = input('Hello! What would you like to add to your cart?\\n')\n",
    "            if item in cart:\n",
    "                print(f\"You really shouldn't have another {item}.\")\n",
    "            else:\n",
    "                print(f\"Adding {item}\")\n",
    "                quantity += 1\n",
    "                cart[item] = quantity  \n",
    "                        \n",
    "        elif prompt.lower() == 'show':\n",
    "            print(cart)\n",
    "        \n",
    "        elif prompt.lower() == 'delete':\n",
    "            item = input('What item would you like to delete?')\n",
    "            if item == 'quit':\n",
    "                break\n",
    "            elif item not in cart:\n",
    "                print('Ugh, that item is NOT in your cart. Please make another selection.')\n",
    "            else:\n",
    "                del cart[item]\n",
    "\n",
    "    print(cart)\n",
    "\n",
    "shopping_cart()"
   ]
  },
  {
   "cell_type": "markdown",
   "metadata": {},
   "source": [
    "### 2) Create a Module in VS Code and Import It into jupyter notebook <br>\n",
    "<p><b>Module should have the following capabilities:</b><br><br>\n",
    "1) Has a function to calculate the square footage of a house <br>\n",
    "    <b>Reminder of Formula: Length X Width == Area<br>\n",
    "        <hr>\n",
    "2) Has a function to calculate the circumference of a circle <br><br>\n",
    "<b>Program in Jupyter Notebook should take in user input and use imported functions to calculate a circle's circumference or a houses square footage</b>\n",
    "</p>"
   ]
  },
  {
   "cell_type": "code",
   "execution_count": 8,
   "metadata": {
    "scrolled": true
   },
   "outputs": [
    {
     "name": "stdout",
     "output_type": "stream",
     "text": [
      "50000\n",
      "37.69911184307752\n"
     ]
    }
   ],
   "source": [
    "from module import sqft, circ\n",
    "from math import pi\n",
    "\n",
    "print(sqft(100,500))\n",
    "print(circ(6))"
   ]
  }
 ],
 "metadata": {
  "kernelspec": {
   "display_name": "Python 3 (ipykernel)",
   "language": "python",
   "name": "python3"
  },
  "language_info": {
   "codemirror_mode": {
    "name": "ipython",
    "version": 3
   },
   "file_extension": ".py",
   "mimetype": "text/x-python",
   "name": "python",
   "nbconvert_exporter": "python",
   "pygments_lexer": "ipython3",
   "version": "3.8.8"
  },
  "vscode": {
   "interpreter": {
    "hash": "119b8f4857a8b13a90b5876abe4402f468f30e81a9d95d4da7db1d70f5e2283c"
   }
  }
 },
 "nbformat": 4,
 "nbformat_minor": 2
}
